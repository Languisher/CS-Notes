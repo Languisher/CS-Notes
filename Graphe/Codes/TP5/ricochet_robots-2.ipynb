{
 "cells": [
  {
   "cell_type": "markdown",
   "id": "ab8d429c",
   "metadata": {},
   "source": [
    "# TD/TP : Ricochet Robots - 碰撞機器人\n",
    "\n",
    "<br>\n",
    "<br>\n",
    "\n",
    "Le jeu Ricochet Robots consiste à déplacer des robots sur un plateau composé d'une grille de cases séparées par quelques murs. Chaque robot se déplace en ligne droite et avance toujours jusqu'au premier mur qu'il rencontre. À chaque tour, le but est d'amener un robot sur une case objectif fixée en utilisant le moins de mouvements possibles.\n",
    "\n",
    "Un exemple en 8 mouvements est représenté dans l'image ci-dessous.\n",
    "\n",
    "\n",
    "<img src=\"exemple.png\" width=\"500\">\n",
    "\n",
    "Précision : s'il n'y a pas de mur juste après l'objectif, le robot doit poursuivre son mouvement sans pouvoir s'arrêter sur la case objectif. En particulier, le jeu n'a pas de solution si l'objectif est sur une case qui n'est entourée par aucun mur.\n",
    "\n",
    "\n",
    "Ce TD/TP propose de modéliser le jeu Ricochet Robots à l'aide d'un graphe afin de résoudre le jeu et de répondre à plusieurs questions en rapport.\n",
    "\n",
    "\n",
    "## Construction des sommets\n",
    "\n",
    "<br>\n",
    "\n",
    "Les lignes et les colonnes du plateau sont numérotées de 0 à 15 en partant du coin en haut à gauche. Chaque case peut ainsi être modélisée par la liste de ses coordonnées. Par exemple, dans l'image précédente, le robot démarre de la case `[5,12]` pour atteindre l'objectif situé sur la case `[10,5]`. Son déplacement en 8 mouvements peut se décomposer de la façon suivante :\n",
    "\n",
    "`[5,12]` $\\rightarrow$ `[0,12]` $\\rightarrow$ `[0,10]` $\\rightarrow$ `[13,10]` $\\rightarrow$ `[13,2]` $\\rightarrow$ `[15,2]` $\\rightarrow$ `[15,4]` $\\rightarrow$ `[10,4]` $\\rightarrow$ `[10,5]`.\n",
    "\n",
    "1. Trouver une solution si le robot démarre de la case `[4,5]` et souhaite atteindre un objectif situé sur la case `[13,14]`. Combien de mouvements avez-vous utilisés ?\n",
    "\n",
    "On souhaite modéliser le plateau à l'aide d'un graphe dont chaque sommet représente une case accessible par les robots (c'est-à-dire toutes les cases du plateau sauf les 4 cases centrales).\n",
    "\n",
    "2. Construire une liste `Sommets` dans laquelle la liste des coordonnées de chaque case accessible du plateau apparaît une seule fois. Vérifier que l'ordre du graphe obtenu avec `len(Sommets)` est égal à `252`."
   ]
  },
  {
   "cell_type": "code",
   "execution_count": 1,
   "id": "93af5fe4",
   "metadata": {},
   "outputs": [],
   "source": [
    "Sommets=[]\n",
    "for i in range(16):\n",
    "    for j in range(16):\n",
    "        Sommets=Sommets+[[i,j]]\n",
    "Sommets.remove([7,7])\n",
    "Sommets.remove([7,8])\n",
    "Sommets.remove([8,7])\n",
    "Sommets.remove([8,8])"
   ]
  },
  {
   "cell_type": "code",
   "execution_count": 2,
   "id": "457813e7",
   "metadata": {},
   "outputs": [
    {
     "name": "stdout",
     "output_type": "stream",
     "text": [
      "252\n"
     ]
    }
   ],
   "source": [
    "nb_cases=len(Sommets)\n",
    "print(nb_cases)"
   ]
  },
  {
   "cell_type": "markdown",
   "id": "2b02adf5",
   "metadata": {},
   "source": [
    "3. Écrire une fonction `indice_case` qui prend en argument la liste `[i,j]` des coordonnées d'une case, puis qui renvoie son indice dans `Sommets`. Si `[i,j]` ne correspond pas à une case accessible, `indice_case([i,j])` doit renvoyer `None`."
   ]
  },
  {
   "cell_type": "code",
   "execution_count": 3,
   "id": "345c81c6",
   "metadata": {},
   "outputs": [],
   "source": [
    "def indice_case(case):\n",
    "    for indice in range(nb_cases):\n",
    "        if Sommets[indice]==case:\n",
    "            return indice\n",
    "    return None"
   ]
  },
  {
   "cell_type": "markdown",
   "id": "a6bcb50d",
   "metadata": {},
   "source": [
    "## Construction de la liste d'adjacence après un pas\n",
    "\n",
    "<br>\n",
    "\n",
    "Le but de cette partie est de construire la liste d'adjacence après un seul pas du déplacement du robot (le mouvement entier jusqu'au premier mur sera modélisé dans la partie suivante). Par exemple, les sommets `[1,7]` et `[1,8]` sont considérés adjacents, alors que les sommets `[2,5]` et `[2,6]` ne le sont pas, ni les sommets `[3,0]` et `[3,4]`.\n",
    "\n",
    "Pour cela, on va modéliser les murs en numérotant de 0 à 16 les droites horizontales sépararant les lignes et les droites verticales séparant les colonnes, en partant du coin en haut à gauche comme dans l'image ci-dessous.\n",
    "\n",
    "<img src=\"numerotation.png\" width=\"400\">\n",
    "\n",
    "À l'aide de cette numérotation, on peut faire la liste des murs horizontaux et des murs verticaux. Par exemple dans la première colonnne, on croise 4 murs horizontaux : sur les droites 0, 5, 11 et 16. On obtient les listes suivantes :"
   ]
  },
  {
   "cell_type": "code",
   "execution_count": 4,
   "id": "aa02ee47",
   "metadata": {},
   "outputs": [],
   "source": [
    "Murs_horizontaux=[[0,5,11,16],[0,6,13,16],[0,4,16],[0,15,16],[0,10,16],[0,3,16],[0,10,16],[0,6,7,9,12,16],[0,7,9,16],[0,3,12,16],[0,14,16],[0,16],[0,7,16],[0,2,10,16],[0,4,13,16],[0,2,12,16]]\n",
    "Murs_verticaux=[[0,4,10,16],[0,14,16],[0,6,16],[0,9,16],[0,3,15,16],[0,7,16],[0,1,12,16],[0,7,9,16],[0,7,9,16],[0,4,13,16],[0,6,16],[0,10,16],[0,8,16],[0,2,15,16],[0,4,10,16],[0,5,12,16]]"
   ]
  },
  {
   "cell_type": "markdown",
   "id": "1892fa97",
   "metadata": {},
   "source": [
    "4. À l'aide de ces listes, construire la liste d'adjacence, notée `Liste_adjacence`, après un seul pas du déplacement du robot. Quelle est la taille du graphe correspondant ?"
   ]
  },
  {
   "cell_type": "code",
   "execution_count": 5,
   "id": "db5452d7",
   "metadata": {},
   "outputs": [],
   "source": [
    "Liste_adjacence=[]\n",
    "for indice in range(nb_cases):\n",
    "    [i,j]=Sommets[indice]\n",
    "    Adjacents=[]\n",
    "    if not(j in Murs_verticaux[i]):\n",
    "        Adjacents=Adjacents+[indice_case([i,j-1])]\n",
    "    if not(j+1 in Murs_verticaux[i]):\n",
    "        Adjacents=Adjacents+[indice_case([i,j+1])]\n",
    "    if not(i in Murs_horizontaux[j]):\n",
    "        Adjacents=Adjacents+[indice_case([i-1,j])]\n",
    "    if not(i+1 in Murs_horizontaux[j]):\n",
    "        Adjacents=Adjacents+[indice_case([i+1,j])]\n",
    "    Liste_adjacence=Liste_adjacence+[Adjacents]"
   ]
  },
  {
   "cell_type": "code",
   "execution_count": 6,
   "id": "70ee422b",
   "metadata": {},
   "outputs": [
    {
     "name": "stdout",
     "output_type": "stream",
     "text": [
      "426.0\n"
     ]
    }
   ],
   "source": [
    "taille_pas=0\n",
    "for indice in range(nb_cases):\n",
    "    taille_pas=taille_pas+len(Liste_adjacence[indice])\n",
    "taille_pas=taille_pas/2\n",
    "print(taille_pas)"
   ]
  },
  {
   "cell_type": "markdown",
   "id": "c1247477",
   "metadata": {},
   "source": [
    "## Construction de la matrice d'adjacence après un mouvement entier\n",
    "\n",
    "<br>\n",
    "\n",
    "Le but de cette partie est de construire la matrice d'adjacence après un mouvement entier du robot (jusqu'au premier mur). Par exemple, les sommets `[1,7]` et `[1,8]` ne sont plus considérés adjacents, alors que les sommets `[1,7]` et `[1,13]` sont adjacents. Plus précisément, `[1,13]` est un successeur de `[1,7]`, alors que `[1,7]` n'est pas un successeur de `[1,13]` (mais `[1,0]` est un successeur de `[1,13]`). On remarque que la matrice d'adjacence n'est pas symétrique, donc que le graphe correspondant est orienté.\n",
    "\n",
    "Pour modéliser les 4 directions possibles du mouvement du robot, on considère le dictionnaire suivant :"
   ]
  },
  {
   "cell_type": "code",
   "execution_count": 7,
   "id": "0d138772",
   "metadata": {},
   "outputs": [],
   "source": [
    "Directions={'nord':[-1,0],'est':[0,1],'sud':[1,0],'ouest':[0,-1]}"
   ]
  },
  {
   "cell_type": "markdown",
   "id": "3f0a7b14",
   "metadata": {},
   "source": [
    "5. À l'aide de `Liste_adjacence`, écrire une fonction `indice_arrivee` qui prend en arguments l'indice d'une case de départ du robot et la direction de son mouvement, puis qui renvoie l'indice de sa case d'arrivée (jusqu'au premier mur)."
   ]
  },
  {
   "cell_type": "code",
   "execution_count": 8,
   "id": "89f0a161",
   "metadata": {},
   "outputs": [],
   "source": [
    "def indice_arrivee(indice_depart,direction):\n",
    "    indice=indice_depart\n",
    "    [i,j]=Sommets[indice]\n",
    "    [di,dj]=Directions[direction]\n",
    "    while indice_case([i+di,j+dj]) in Liste_adjacence[indice]:\n",
    "        indice=indice_case([i+di,j+dj])\n",
    "        [i,j]=Sommets[indice]\n",
    "    return indice"
   ]
  },
  {
   "cell_type": "markdown",
   "id": "945f1df1",
   "metadata": {},
   "source": [
    "6. Construire la matrice d'adjacence, notée `Matrice_adjacence`, après un mouvement entier du robot (jusqu'au premier mur). Quelle est la taille du graphe correspondant ? Comparer ce résultat avec celui de la question 4 et justifier."
   ]
  },
  {
   "cell_type": "code",
   "execution_count": 9,
   "id": "26a0cd70",
   "metadata": {},
   "outputs": [],
   "source": [
    "Matrice_adjacence=[[0 for indice2 in range(nb_cases)] for indice1 in range(nb_cases)]\n",
    "for indice1 in range(nb_cases):\n",
    "    for direction in list(Directions):\n",
    "        indice2=indice_arrivee(indice1,direction)\n",
    "        if indice2!=indice1:\n",
    "            Matrice_adjacence[indice1][indice2]=1"
   ]
  },
  {
   "cell_type": "code",
   "execution_count": 10,
   "id": "a50cd1c4",
   "metadata": {},
   "outputs": [
    {
     "name": "stdout",
     "output_type": "stream",
     "text": [
      "852\n"
     ]
    }
   ],
   "source": [
    "taille_mouvement=0\n",
    "for indice1 in range(nb_cases):\n",
    "    for indice2 in range(nb_cases):\n",
    "        taille_mouvement=taille_mouvement+Matrice_adjacence[indice1][indice2]\n",
    "print(taille_mouvement)"
   ]
  },
  {
   "cell_type": "markdown",
   "id": "b570e593",
   "metadata": {},
   "source": [
    "## Détermination des cases atteignables depuis une case de départ\n",
    "\n",
    "<br>\n",
    "\n",
    "7. À l'aide d'un <b>parcours en profondeur</b>, écrire une fonction `liste_atteignables` qui prend en argument une case de départ du robot, puis qui renvoie la liste des cases que le robot peut atteindre en un nombre fini de mouvements."
   ]
  },
  {
   "cell_type": "code",
   "execution_count": null,
   "id": "a60bab9c",
   "metadata": {},
   "outputs": [],
   "source": []
  },
  {
   "cell_type": "markdown",
   "id": "7b5e8719",
   "metadata": {},
   "source": [
    "8. Existe-t-il une case de départ du robot qui ne lui permet pas d'atteindre un objectif situé sur la case en haut à gauche du plateau ?"
   ]
  },
  {
   "cell_type": "code",
   "execution_count": null,
   "id": "72dba626",
   "metadata": {},
   "outputs": [],
   "source": []
  },
  {
   "cell_type": "markdown",
   "id": "9e1ef48a",
   "metadata": {},
   "source": [
    "9. Quelles sont les cases de départ qui permettent d'atteindre le plus grand nombre de cases du plateau ?"
   ]
  },
  {
   "cell_type": "code",
   "execution_count": null,
   "id": "89518eb0",
   "metadata": {},
   "outputs": [],
   "source": []
  },
  {
   "cell_type": "markdown",
   "id": "0e50cf8d",
   "metadata": {},
   "source": [
    "## Calcul du nombre minimal de mouvements depuis une case de départ\n",
    "\n",
    "<br>\n",
    "\n",
    "10. À l'aide d'un <b>parcours en largeur</b>, écrire une fonction `liste_min_mouvements` qui prend en argument une case de départ du robot, puis qui renvoie une liste de listes dont la $n$-ième liste est la liste des cases que le robot peut atteindre en nombre minimal de mouvements égal à $n$."
   ]
  },
  {
   "cell_type": "code",
   "execution_count": null,
   "id": "4ed0f1bf",
   "metadata": {},
   "outputs": [],
   "source": []
  },
  {
   "cell_type": "markdown",
   "id": "84f661d9",
   "metadata": {},
   "source": [
    "Utiliser `liste_min_mouvements` pour vérifier votre résultat de la question 1."
   ]
  },
  {
   "cell_type": "code",
   "execution_count": null,
   "id": "46c18c8c",
   "metadata": {},
   "outputs": [],
   "source": []
  },
  {
   "cell_type": "markdown",
   "id": "579b183c",
   "metadata": {},
   "source": [
    "11. Écrire une fonction `cases_eloignees`qui prend en argument une case de départ du robot, puis qui renvoie la liste des cases que le robot peut atteindre avec un nombre minimal de mouvements maximal."
   ]
  },
  {
   "cell_type": "code",
   "execution_count": null,
   "id": "da662315",
   "metadata": {},
   "outputs": [],
   "source": []
  },
  {
   "cell_type": "markdown",
   "id": "e203daf2",
   "metadata": {},
   "source": [
    "12. Quelles sont les cases les plus éloignées si le robot démarre dans le coin en haut à gauche du plateau ? Combien de mouvements sont nécessaires pour les atteindre ?"
   ]
  },
  {
   "cell_type": "code",
   "execution_count": null,
   "id": "74e69cf9",
   "metadata": {},
   "outputs": [],
   "source": []
  },
  {
   "cell_type": "markdown",
   "id": "f7c07c52",
   "metadata": {},
   "source": [
    "## Résolution du jeu\n",
    "\n",
    "<br>\n",
    "\n",
    "13. À l'aide d'un <b>algorithme de Dijkstra</b>, écrire une fonction `solution` qui prend en arguments une case de départ du robot et une case objectif à atteindre, puis qui renvoie la liste des cases correspondant à un déplacement du robot résolvant le problème en utilisant le moins de mouvements possibles. Si la case objectif n'est pas atteignable depuis la case de départ, la fonction doit renvoyer `'pas de solution'`."
   ]
  },
  {
   "cell_type": "code",
   "execution_count": null,
   "id": "e76376bf",
   "metadata": {},
   "outputs": [],
   "source": []
  },
  {
   "cell_type": "markdown",
   "id": "04fcce94",
   "metadata": {},
   "source": [
    "14. Utiliser `solution` pour déterminer des solutions partant du coin en haut à gauche du plateau jusqu'aux cases les plus éloignées de cette case de départ."
   ]
  },
  {
   "cell_type": "code",
   "execution_count": null,
   "id": "6b72f8d0",
   "metadata": {},
   "outputs": [],
   "source": []
  },
  {
   "cell_type": "markdown",
   "id": "8be5de1a",
   "metadata": {},
   "source": [
    "## Détermination des solutions maximales\n",
    "\n",
    "<br>\n",
    "\n",
    "15. À l'aide d'un <b>algorithme de Floyd-Warshall</b>, construire la matrice `Matrice_min_mouvements` des nombres minimaux de mouvements entre chaque case de départ et chaque case objectif à atteindre. Si une case objectif n'est pas atteignable depuis une case de départ, le coefficient correspondant de `Matrice_min_mouvements` doit être égal à `numpy.Infinity`."
   ]
  },
  {
   "cell_type": "code",
   "execution_count": null,
   "id": "e9c28280",
   "metadata": {},
   "outputs": [],
   "source": []
  },
  {
   "cell_type": "markdown",
   "id": "d5226583",
   "metadata": {},
   "source": [
    "16. Déterminer les solutions maximales du jeu, c'est-à-dire celles dont le nombre minimal de mouvements nécessaires est maximal."
   ]
  },
  {
   "cell_type": "code",
   "execution_count": null,
   "id": "f591f4dd",
   "metadata": {},
   "outputs": [],
   "source": []
  },
  {
   "cell_type": "markdown",
   "id": "6f583fed",
   "metadata": {},
   "source": []
  }
 ],
 "metadata": {
  "celltoolbar": "Format de la Cellule Texte Brut",
  "kernelspec": {
   "display_name": "Python 3 (ipykernel)",
   "language": "python",
   "name": "python3"
  },
  "language_info": {
   "codemirror_mode": {
    "name": "ipython",
    "version": 3
   },
   "file_extension": ".py",
   "mimetype": "text/x-python",
   "name": "python",
   "nbconvert_exporter": "python",
   "pygments_lexer": "ipython3",
   "version": "3.11.5"
  }
 },
 "nbformat": 4,
 "nbformat_minor": 5
}
