{
 "cells": [
  {
   "cell_type": "markdown",
   "id": "ab8d429c",
   "metadata": {},
   "source": [
    "# TD/TP : Ricochet Robots - 碰撞機器人\n",
    "\n",
    "<br>\n",
    "<br>\n",
    "\n",
    "Le jeu Ricochet Robots consiste à déplacer des robots sur un plateau composé d'une grille de cases séparées par quelques murs. Chaque robot se déplace en ligne droite et avance toujours jusqu'au premier mur qu'il rencontre. À chaque tour, le but est d'amener un robot sur une case objectif fixée en utilisant le moins de mouvements possibles.\n",
    "\n",
    "Un exemple en 8 mouvements est représenté dans l'image ci-dessous.\n",
    "\n",
    "\n",
    "<img src=\"exemple.png\" width=\"500\">\n",
    "\n",
    "\n",
    "Ce TD/TP propose de modéliser le jeu Ricochet Robots à l'aide d'un graphe afin de résoudre le jeu et de répondre à plusieurs questions en rapport.\n",
    "\n",
    "\n",
    "## Construction des sommets\n",
    "\n",
    "<br>\n",
    "\n",
    "Les lignes et les colonnes du plateau sont numérotées de 0 à 15 en partant du coin en haut à gauche. Chaque case peut ainsi être modélisée par la liste de ses coordonnées. Par exemple, dans l'image précédente, le robot démarre de la case `[5,12]` pour atteindre l'objectif situé sur la case `[10,5]`. Son déplacement en 8 mouvements peut se décomposer de la façon suivante :\n",
    "\n",
    "`[5,12]` $\\rightarrow$ `[0,12]` $\\rightarrow$ `[0,10]` $\\rightarrow$ `[13,10]` $\\rightarrow$ `[13,2]` $\\rightarrow$ `[15,2]` $\\rightarrow$ `[15,4]` $\\rightarrow$ `[10,4]` $\\rightarrow$ `[10,5]`.\n",
    "\n",
    "1. Trouver une solution si le robot démarre de la case `[4,5]` et souhaite atteindre un objectif situé sur la case `[13,14]`. Combien de mouvements avez-vous utilisés ?\n",
    "\n",
    "On souhaite modéliser le plateau à l'aide d'un graphe dont chaque sommet représente une case accessible par les robots (c'est-à-dire toutes les cases du plateau sauf les 4 cases centrales).\n",
    "\n",
    "2. Construire une liste `Sommets` dans laquelle la liste des coordonnées de chaque case accessible du plateau apparaît une seule fois. Vérifier que l'ordre du graphe obtenu avec `len(Sommets)` est égal à `252`."
   ]
  },
  {
   "cell_type": "code",
   "execution_count": 6,
   "id": "93af5fe4",
   "metadata": {},
   "outputs": [
    {
     "data": {
      "text/plain": [
       "[(0, 0),\n",
       " (0, 1),\n",
       " (0, 2),\n",
       " (0, 3),\n",
       " (0, 4),\n",
       " (0, 5),\n",
       " (0, 6),\n",
       " (0, 7),\n",
       " (0, 8),\n",
       " (0, 9),\n",
       " (0, 10),\n",
       " (0, 11),\n",
       " (0, 12),\n",
       " (0, 13),\n",
       " (0, 14),\n",
       " (1, 0),\n",
       " (1, 1),\n",
       " (1, 2),\n",
       " (1, 3),\n",
       " (1, 4),\n",
       " (1, 5),\n",
       " (1, 6),\n",
       " (1, 7),\n",
       " (1, 8),\n",
       " (1, 9),\n",
       " (1, 10),\n",
       " (1, 11),\n",
       " (1, 12),\n",
       " (1, 13),\n",
       " (1, 14),\n",
       " (2, 0),\n",
       " (2, 1),\n",
       " (2, 2),\n",
       " (2, 3),\n",
       " (2, 4),\n",
       " (2, 5),\n",
       " (2, 6),\n",
       " (2, 7),\n",
       " (2, 8),\n",
       " (2, 9),\n",
       " (2, 10),\n",
       " (2, 11),\n",
       " (2, 12),\n",
       " (2, 13),\n",
       " (2, 14),\n",
       " (3, 0),\n",
       " (3, 1),\n",
       " (3, 2),\n",
       " (3, 3),\n",
       " (3, 4),\n",
       " (3, 5),\n",
       " (3, 6),\n",
       " (3, 7),\n",
       " (3, 8),\n",
       " (3, 9),\n",
       " (3, 10),\n",
       " (3, 11),\n",
       " (3, 12),\n",
       " (3, 13),\n",
       " (3, 14),\n",
       " (4, 0),\n",
       " (4, 1),\n",
       " (4, 2),\n",
       " (4, 3),\n",
       " (4, 4),\n",
       " (4, 5),\n",
       " (4, 6),\n",
       " (4, 7),\n",
       " (4, 8),\n",
       " (4, 9),\n",
       " (4, 10),\n",
       " (4, 11),\n",
       " (4, 12),\n",
       " (4, 13),\n",
       " (4, 14),\n",
       " (5, 0),\n",
       " (5, 1),\n",
       " (5, 2),\n",
       " (5, 3),\n",
       " (5, 4),\n",
       " (5, 5),\n",
       " (5, 6),\n",
       " (5, 7),\n",
       " (5, 8),\n",
       " (5, 9),\n",
       " (5, 10),\n",
       " (5, 11),\n",
       " (5, 12),\n",
       " (5, 13),\n",
       " (5, 14),\n",
       " (6, 0),\n",
       " (6, 1),\n",
       " (6, 2),\n",
       " (6, 3),\n",
       " (6, 4),\n",
       " (6, 5),\n",
       " (6, 6),\n",
       " (6, 7),\n",
       " (6, 8),\n",
       " (6, 9),\n",
       " (6, 10),\n",
       " (6, 11),\n",
       " (6, 12),\n",
       " (6, 13),\n",
       " (6, 14),\n",
       " (7, 0),\n",
       " (7, 1),\n",
       " (7, 2),\n",
       " (7, 3),\n",
       " (7, 4),\n",
       " (7, 5),\n",
       " (7, 6),\n",
       " (7, 9),\n",
       " (7, 10),\n",
       " (7, 11),\n",
       " (7, 12),\n",
       " (7, 13),\n",
       " (7, 14),\n",
       " (8, 0),\n",
       " (8, 1),\n",
       " (8, 2),\n",
       " (8, 3),\n",
       " (8, 4),\n",
       " (8, 5),\n",
       " (8, 6),\n",
       " (8, 9),\n",
       " (8, 10),\n",
       " (8, 11),\n",
       " (8, 12),\n",
       " (8, 13),\n",
       " (8, 14),\n",
       " (9, 0),\n",
       " (9, 1),\n",
       " (9, 2),\n",
       " (9, 3),\n",
       " (9, 4),\n",
       " (9, 5),\n",
       " (9, 6),\n",
       " (9, 7),\n",
       " (9, 8),\n",
       " (9, 9),\n",
       " (9, 10),\n",
       " (9, 11),\n",
       " (9, 12),\n",
       " (9, 13),\n",
       " (9, 14),\n",
       " (10, 0),\n",
       " (10, 1),\n",
       " (10, 2),\n",
       " (10, 3),\n",
       " (10, 4),\n",
       " (10, 5),\n",
       " (10, 6),\n",
       " (10, 7),\n",
       " (10, 8),\n",
       " (10, 9),\n",
       " (10, 10),\n",
       " (10, 11),\n",
       " (10, 12),\n",
       " (10, 13),\n",
       " (10, 14),\n",
       " (11, 0),\n",
       " (11, 1),\n",
       " (11, 2),\n",
       " (11, 3),\n",
       " (11, 4),\n",
       " (11, 5),\n",
       " (11, 6),\n",
       " (11, 7),\n",
       " (11, 8),\n",
       " (11, 9),\n",
       " (11, 10),\n",
       " (11, 11),\n",
       " (11, 12),\n",
       " (11, 13),\n",
       " (11, 14),\n",
       " (12, 0),\n",
       " (12, 1),\n",
       " (12, 2),\n",
       " (12, 3),\n",
       " (12, 4),\n",
       " (12, 5),\n",
       " (12, 6),\n",
       " (12, 7),\n",
       " (12, 8),\n",
       " (12, 9),\n",
       " (12, 10),\n",
       " (12, 11),\n",
       " (12, 12),\n",
       " (12, 13),\n",
       " (12, 14),\n",
       " (13, 0),\n",
       " (13, 1),\n",
       " (13, 2),\n",
       " (13, 3),\n",
       " (13, 4),\n",
       " (13, 5),\n",
       " (13, 6),\n",
       " (13, 7),\n",
       " (13, 8),\n",
       " (13, 9),\n",
       " (13, 10),\n",
       " (13, 11),\n",
       " (13, 12),\n",
       " (13, 13),\n",
       " (13, 14),\n",
       " (14, 0),\n",
       " (14, 1),\n",
       " (14, 2),\n",
       " (14, 3),\n",
       " (14, 4),\n",
       " (14, 5),\n",
       " (14, 6),\n",
       " (14, 7),\n",
       " (14, 8),\n",
       " (14, 9),\n",
       " (14, 10),\n",
       " (14, 11),\n",
       " (14, 12),\n",
       " (14, 13),\n",
       " (14, 14)]"
      ]
     },
     "execution_count": 6,
     "metadata": {},
     "output_type": "execute_result"
    }
   ],
   "source": [
    "Sommets = []\n",
    "for i in range(15):\n",
    "    for j in range(15):\n",
    "        Sommets.append((i, j)) \n",
    "        \n",
    "Sommets.remove((7, 7))\n",
    "Sommets.remove((7, 8))\n",
    "Sommets.remove((8, 7))\n",
    "Sommets.remove((8, 8))\n",
    "\n",
    "len(Sommets)"
   ]
  },
  {
   "cell_type": "markdown",
   "id": "2b02adf5",
   "metadata": {},
   "source": [
    "3. Écrire une fonction `indice_case` qui prend en argument la liste `[i,j]` des coordonnées d'une case, puis qui renvoie son indice dans `Sommets`. Si `[i,j]` ne correspond pas à une case accessible, `indice_case([i,j])` doit renvoyer `None`."
   ]
  },
  {
   "cell_type": "code",
   "execution_count": null,
   "id": "345c81c6",
   "metadata": {},
   "outputs": [],
   "source": []
  },
  {
   "cell_type": "markdown",
   "id": "a6bcb50d",
   "metadata": {},
   "source": [
    "## Construction de la liste d'adjacence après un pas\n",
    "\n",
    "<br>\n",
    "\n",
    "Le but de cette partie est de construire la liste d'adjacence après un seul pas du déplacement d'un robot (le mouvement entier jusqu'au premier mur sera modélisé dans la partie suivante). Par exemple, les sommets `[1,7]` et `[1,8]` sont considérés adjacents, alors que les sommets `[2,5]` et `[2,6]` ne le sont pas, ni les sommets `[3,0]` et `[3,4]`.\n",
    "\n",
    "Pour cela, on va modéliser les murs en numérotant de 0 à 16 les droites horizontales sépararant les lignes et les droites verticales séparant les colonnes, en partant du coin en haut à gauche comme dans l'image ci-dessous.\n",
    "\n",
    "<img src=\"numerotation.png\" width=\"400\">\n",
    "\n",
    "À l'aide de cette numérotation, on peut faire la liste des murs horizontaux et des murs verticaux. Par exemple dans la première colonnne, on croise 4 murs horizontaux : sur les droites 0, 5, 11 et 16. On obtient les listes suivantes :"
   ]
  },
  {
   "cell_type": "code",
   "execution_count": null,
   "id": "aa02ee47",
   "metadata": {},
   "outputs": [],
   "source": [
    "Murs_horizontaux=[[0,5,11,16],[0,6,13,16],[0,4,16,],[0,15,16],[0,10,16],[0,3,16],[0,10,16],[0,6,7,9,12,16],[0,7,9,16],[0,3,12,16],[0,14,16],[0,16],[0,7,16],[0,2,10,16],[0,4,13,16],[0,2,12,16]]\n",
    "Murs_verticaux=[[0,4,10,16],[0,14,16],[0,6,16],[0,9,16],[0,3,15,16],[0,7,16],[0,1,12,16],[0,7,9,16],[0,7,9,16],[0,4,13,16],[0,6,16],[0,10,16],[0,8,16],[0,2,15,16],[0,4,10,16],[0,5,12,16]]"
   ]
  },
  {
   "cell_type": "markdown",
   "id": "1892fa97",
   "metadata": {},
   "source": [
    "4. À l'aide de ces listes, construire la liste d'adjacence, notée `Liste_adjacence`, après un seul pas du déplacement d'un robot. Quelle la taille du graphe correspondant ?"
   ]
  },
  {
   "cell_type": "code",
   "execution_count": null,
   "id": "db5452d7",
   "metadata": {},
   "outputs": [],
   "source": []
  },
  {
   "cell_type": "code",
   "execution_count": null,
   "id": "70ee422b",
   "metadata": {},
   "outputs": [],
   "source": []
  },
  {
   "cell_type": "markdown",
   "id": "c1247477",
   "metadata": {},
   "source": [
    "## Construction de la matrice d'adjacence après un mouvement entier\n",
    "\n",
    "<br>\n",
    "\n",
    "Le but de cette partie est de construire la matrice d'adjacence après un mouvement entier d'un robot (jusqu'au premier mur). Par exemple, les sommets `[1,7]` et `[1,8]` ne sont plus considérés comme adjacents, alors que les sommets `[1,7]` et `[1,13]` sont adjacents. Plus précisément, `[1,13]` est un successeur de `[1,7]`, alors que `[1,7]` n'est pas un successeur de `[1,13]` (mais `[1,0]` est un successeur de `[1,13]`). On remarque que la matrice d'adjacence n'est pas symétrique, donc que le graphe correspondant est orienté.\n",
    "\n",
    "Pour modéliser les 4 directions possibles du mouvement d'un robot, on considère le dictionnaire suivant :"
   ]
  },
  {
   "cell_type": "code",
   "execution_count": null,
   "id": "0d138772",
   "metadata": {},
   "outputs": [],
   "source": [
    "Directions={'nord':[-1,0],'est':[0,1],'sud':[1,0],'ouest':[0,-1]}"
   ]
  },
  {
   "cell_type": "markdown",
   "id": "3f0a7b14",
   "metadata": {},
   "source": [
    "5. À l'aide de `Liste_adjacence`, écrire une fonction `indice_arrivee` qui prend en arguments l'indice d'une case de départ du robot et la direction de son mouvement, puis qui renvoie l'indice de sa case d'arrivée (jusqu'au premier mur)."
   ]
  },
  {
   "cell_type": "code",
   "execution_count": null,
   "id": "89f0a161",
   "metadata": {},
   "outputs": [],
   "source": []
  },
  {
   "cell_type": "markdown",
   "id": "945f1df1",
   "metadata": {},
   "source": [
    "6. Construire la matrice d'adjacence, notée `Matrice_adjacence`, après un mouvement entier du robot (jusqu'au premier mur). Quelle est la taille du graphe correspondant ? Comparer ce résultat avec celui de la question 4 et justifier."
   ]
  },
  {
   "cell_type": "code",
   "execution_count": null,
   "id": "26a0cd70",
   "metadata": {},
   "outputs": [],
   "source": []
  },
  {
   "cell_type": "code",
   "execution_count": null,
   "id": "a50cd1c4",
   "metadata": {},
   "outputs": [],
   "source": []
  },
  {
   "cell_type": "markdown",
   "id": "b570e593",
   "metadata": {},
   "source": [
    "## Test d'existence d'une solution\n",
    "\n",
    "<br>\n",
    "\n",
    "7. À l'aide d'un <b>parcours en profondeur</b>, écrire une fonction `atteignable` qui prend en arguments une case de départ du robot et une case objectif à atteindre, puis qui renvoie `True` s'il existe un nombre fini de mouvements permettant au robot d'atteindre l'objectif, et `False` sinon. Existe-t-il une case de départ du robot qui ne lui permet pas d'atteindre un objectif situé sur la case en haut à gauche du plateau ?"
   ]
  },
  {
   "cell_type": "code",
   "execution_count": null,
   "id": "a60bab9c",
   "metadata": {},
   "outputs": [],
   "source": []
  },
  {
   "cell_type": "code",
   "execution_count": null,
   "id": "72dba626",
   "metadata": {},
   "outputs": [],
   "source": []
  },
  {
   "cell_type": "markdown",
   "id": "9e1ef48a",
   "metadata": {},
   "source": [
    "8. Écrire ne fonction `nb_atteignables`qui prend en argument une case de départ du robot, puis qui renvoie le nombre de cases du plateau atteignables depuis cette case, après un nombre fini de mouvements. Quelles sont les cases de départ qui permettent d'atteindre le plus grand nombre de cases du plateau ?"
   ]
  },
  {
   "cell_type": "code",
   "execution_count": null,
   "id": "f182b9cd",
   "metadata": {},
   "outputs": [],
   "source": []
  },
  {
   "cell_type": "code",
   "execution_count": null,
   "id": "89518eb0",
   "metadata": {},
   "outputs": [],
   "source": []
  },
  {
   "cell_type": "markdown",
   "id": "0e50cf8d",
   "metadata": {},
   "source": [
    "## Calcul des distances depuis une case de départ\n",
    "\n",
    "<br>\n",
    "\n",
    "9. À l'aide d'un <b>parcours en largeur</b>, écrire une fonction `liste_distances` qui prend en argument une case de départ du robot, puis qui renvoie la liste des nombres minimaux de mouvements nécessaires pour atteindre chaque case du plateau. Si une case n'est pas atteignable, la distance devra être égale à `numpy.Infinity`. Utiliser `liste_distances` pour vérifier votre résultat de la question 1."
   ]
  },
  {
   "cell_type": "code",
   "execution_count": null,
   "id": "4ed0f1bf",
   "metadata": {},
   "outputs": [],
   "source": []
  },
  {
   "cell_type": "code",
   "execution_count": null,
   "id": "46c18c8c",
   "metadata": {},
   "outputs": [],
   "source": []
  },
  {
   "cell_type": "markdown",
   "id": "579b183c",
   "metadata": {},
   "source": [
    "10. Écrire une fonction `cases_eloignees`qui prend en argument une case de départ du robot, puis qui renvoie la liste des cases du plateau à distance maximale atteignables depuis cette case. Quelles sont les cases les plus éloignées si le robot démarre dans le coin en haut à gauche du plateau ? Combien de mouvements sont nécessaires pour les atteindre ?"
   ]
  },
  {
   "cell_type": "code",
   "execution_count": null,
   "id": "da662315",
   "metadata": {},
   "outputs": [],
   "source": []
  },
  {
   "cell_type": "code",
   "execution_count": null,
   "id": "74e69cf9",
   "metadata": {},
   "outputs": [],
   "source": []
  },
  {
   "cell_type": "markdown",
   "id": "f7c07c52",
   "metadata": {},
   "source": [
    "## Résolution du jeu\n",
    "\n",
    "<br>\n",
    "\n",
    "11. À l'aide d'un <b>algorithme de Dijkstra</b>, écrire une fonction `solution` qui prend en arguments une case de départ du robot et une case objectif à atteindre, puis qui renvoie une liste de sommets correspondant à un déplacement du robot résolvant le problème en utilisant le moins de mouvements possibles. Si la case objectif n'est pas atteignable depuis la case de départ, la fonction doit renvoyer `'pas de solution'`. Utiliser `solution` pour déterminer des plus courts chemins partant du coin en haut à gauche du plateau jusqu'aux cases les plus éloignées de cette case de départ."
   ]
  },
  {
   "cell_type": "code",
   "execution_count": null,
   "id": "e76376bf",
   "metadata": {},
   "outputs": [],
   "source": []
  },
  {
   "cell_type": "code",
   "execution_count": null,
   "id": "6b72f8d0",
   "metadata": {},
   "outputs": [],
   "source": []
  },
  {
   "cell_type": "markdown",
   "id": "8be5de1a",
   "metadata": {},
   "source": [
    "## Calcul de toutes les distances\n",
    "\n",
    "<br>\n",
    "\n",
    "12. À l'aide d'un <b>algorithme de Floyd-Warshall</b>, écrire une fonction `matrice_distances` qui renvoie la matrice des nombres minimaux de mouvements nécessaires entre chaque case de départ et chaque case objectif à atteindre. Déterminer la liste des cases de départ et des cases objectifs les plus éloignées. Quel est le nombre maximum de mouvements pour résoudre n'importe quel problème du jeu ?"
   ]
  },
  {
   "cell_type": "code",
   "execution_count": null,
   "id": "e9c28280",
   "metadata": {},
   "outputs": [],
   "source": []
  },
  {
   "cell_type": "markdown",
   "id": "6f583fed",
   "metadata": {},
   "source": []
  }
 ],
 "metadata": {
  "celltoolbar": "Format de la Cellule Texte Brut",
  "kernelspec": {
   "display_name": "Python 3 (ipykernel)",
   "language": "python",
   "name": "python3"
  },
  "language_info": {
   "codemirror_mode": {
    "name": "ipython",
    "version": 3
   },
   "file_extension": ".py",
   "mimetype": "text/x-python",
   "name": "python",
   "nbconvert_exporter": "python",
   "pygments_lexer": "ipython3",
   "version": "3.11.5"
  }
 },
 "nbformat": 4,
 "nbformat_minor": 5
}
